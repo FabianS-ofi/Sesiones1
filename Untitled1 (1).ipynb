{
  "nbformat": 4,
  "nbformat_minor": 0,
  "metadata": {
    "colab": {
      "provenance": []
    },
    "kernelspec": {
      "name": "python3",
      "display_name": "Python 3"
    },
    "language_info": {
      "name": "python"
    }
  },
  "cells": [
    {
      "cell_type": "code",
      "execution_count": 2,
      "metadata": {
        "colab": {
          "base_uri": "https://localhost:8080/"
        },
        "id": "ktVeKmjWjFtO",
        "outputId": "40bf621a-28dd-47b9-94a9-43c145fa63b0"
      },
      "outputs": [
        {
          "output_type": "stream",
          "name": "stdout",
          "text": [
            "{1, 4, 5, 6, 8}\n",
            "<class 'set'>\n"
          ]
        }
      ],
      "source": [
        "s = set([5, 4, 6, 8, 8, 1])  # Creamos un conjunto con elementos, los duplicados se eliminan automáticamente\n",
        "print(s)  # Imprime el conjunto: {1, 4, 5, 6, 8} (los elementos sin orden específico)\n",
        "print(type(s))  # Imprime el tipo de variable, que es <class 'set'>"
      ]
    },
    {
      "cell_type": "code",
      "source": [
        "s = set([5, 6, 7, 8])  # Creamos un conjunto con estos elementos\n",
        "# s[0] = 3  # Esto daría error porque los conjuntos no soportan indexación ni asignación por posición"
      ],
      "metadata": {
        "id": "DN58O9s0j7Sl"
      },
      "execution_count": 39,
      "outputs": []
    },
    {
      "cell_type": "code",
      "source": [
        "lista = [\"Perú\", \"Argentina\"]  # Creamos una lista con dos elementos\n",
        "lista.append(\"Mexico\")  # Añadimos \"Mexico\" al final de la lista\n",
        "lista.append(\"España\")  # Añadimos \"España\" al final de la lista\n",
        "print(lista)  # Imprime la lista completa: ['Perú', 'Argentina', 'Mexico', 'España']\n"
      ],
      "metadata": {
        "colab": {
          "base_uri": "https://localhost:8080/"
        },
        "id": "WMglSMuAlGZg",
        "outputId": "a87d883d-908f-46e1-c764-8e8818f199c2"
      },
      "execution_count": 10,
      "outputs": [
        {
          "output_type": "stream",
          "name": "stdout",
          "text": [
            "['Perú', 'Argentina', 'Mexico', 'España']\n"
          ]
        }
      ]
    },
    {
      "cell_type": "code",
      "source": [
        "s = set([5, 6, 7, 8])  # Creamos un conjunto con estos números\n",
        "for ss in s:  # Iteramos sobre cada elemento del conjunto\n",
        "    print(ss)  # Imprime cada elemento (el orden no está garantizado)"
      ],
      "metadata": {
        "colab": {
          "base_uri": "https://localhost:8080/"
        },
        "id": "FpYy3W1llYbN",
        "outputId": "d7196506-e741-4e45-e873-963e32c052e6"
      },
      "execution_count": 11,
      "outputs": [
        {
          "output_type": "stream",
          "name": "stdout",
          "text": [
            "8\n",
            "5\n",
            "6\n",
            "7\n"
          ]
        }
      ]
    },
    {
      "cell_type": "code",
      "source": [
        "s = set([1, 2, 2, 3, 4])  # Creamos un conjunto, los duplicados '2' se eliminan\n",
        "print(len(s))  # Imprime la cantidad de elementos únicos: 4\n"
      ],
      "metadata": {
        "colab": {
          "base_uri": "https://localhost:8080/"
        },
        "id": "70XE5i1FmCw-",
        "outputId": "e749c0b1-cd81-4a88-fdd0-f3c42d275367"
      },
      "execution_count": 12,
      "outputs": [
        {
          "output_type": "stream",
          "name": "stdout",
          "text": [
            "4\n"
          ]
        }
      ]
    },
    {
      "cell_type": "code",
      "source": [
        "s = set([1, 2, 2, 3, 4, 3, 6])  # Creamos otro conjunto con algunos valores duplicados\n",
        "print(len(s))  # Imprime la cantidad de elementos únicos: 5 (1,2,3,4,6)\n"
      ],
      "metadata": {
        "colab": {
          "base_uri": "https://localhost:8080/"
        },
        "id": "E46yL_YRminN",
        "outputId": "74015103-7414-4493-f48b-918ffbce597b"
      },
      "execution_count": 24,
      "outputs": [
        {
          "output_type": "stream",
          "name": "stdout",
          "text": [
            "5\n"
          ]
        }
      ]
    },
    {
      "cell_type": "code",
      "source": [
        "s = set([\"Guitarra\", \"Bajo\"])  # Creamos un conjunto con dos elementos: \"Guitarra\" y \"Bajo\"\n",
        "\n",
        "print(\"Guitarra\" in s)  # Verifica si \"Guitarra\" está en el conjunto s, imprime True\n",
        "\n",
        "for ss in s:  # Itera sobre cada elemento del conjunto s\n",
        "    print(ss)  # Imprime cada elemento (el orden no está garantizado en un conjunto)\n"
      ],
      "metadata": {
        "colab": {
          "base_uri": "https://localhost:8080/"
        },
        "id": "BAt3zyrFnVcv",
        "outputId": "f7d86c63-b906-48ac-e7de-520ff5e6a7e3"
      },
      "execution_count": 29,
      "outputs": [
        {
          "output_type": "stream",
          "name": "stdout",
          "text": [
            "True\n",
            "Bajo\n",
            "Guitarra\n"
          ]
        }
      ]
    },
    {
      "cell_type": "code",
      "source": [
        "s1 = set([1, 2, 3])  # Creamos el conjunto s1 con los elementos 1, 2 y 3\n",
        "s2 = set([3, 4, 5])  # Creamos el conjunto s2 con los elementos 3, 4 y 5\n",
        "\n",
        "print(s1 | s2)  # Imprime la unión de s1 y s2, que es {1, 2, 3, 4, 5}\n",
        "# El operador \"|\" representa la unión entre dos conjuntos\n",
        "\n",
        "\n"
      ],
      "metadata": {
        "colab": {
          "base_uri": "https://localhost:8080/"
        },
        "id": "KUaBwfSsnoy2",
        "outputId": "41ac4a24-2d38-4a34-cdad-9d36687a7011"
      },
      "execution_count": 30,
      "outputs": [
        {
          "output_type": "stream",
          "name": "stdout",
          "text": [
            "{1, 2, 3, 4, 5}\n"
          ]
        }
      ]
    },
    {
      "cell_type": "code",
      "source": [
        "l = set([1, 2])  # Creamos un conjunto con los elementos 1 y 2\n",
        "l.add(3)         # Agregamos el elemento 3 al conjunto\n",
        "print(l)         # Imprime el conjunto actualizado: {1, 2, 3}\n",
        "\n"
      ],
      "metadata": {
        "colab": {
          "base_uri": "https://localhost:8080/"
        },
        "id": "wSn7HUvRob0F",
        "outputId": "bc21b7aa-3b99-409e-87af-c78c261bde70"
      },
      "execution_count": 31,
      "outputs": [
        {
          "output_type": "stream",
          "name": "stdout",
          "text": [
            "{1, 2, 3}\n"
          ]
        }
      ]
    },
    {
      "cell_type": "code",
      "source": [
        "s = set([1, 2])  # Creamos un conjunto con los elementos 1 y 2\n",
        "s.remove(2)      # Eliminamos el elemento 2 del conjunto\n",
        "print(s)         # Imprime el conjunto resultante: {1}\n"
      ],
      "metadata": {
        "colab": {
          "base_uri": "https://localhost:8080/"
        },
        "id": "v3quTPL5pMgd",
        "outputId": "4ddda7a4-048e-4052-a4c7-6f813d76bc7d"
      },
      "execution_count": 41,
      "outputs": [
        {
          "output_type": "stream",
          "name": "stdout",
          "text": [
            "{1}\n"
          ]
        }
      ]
    },
    {
      "cell_type": "code",
      "source": [
        "s = set([1, 2])  # Creamos un conjunto con los elementos 1 y 2\n",
        "s.remove(3)      # Intenta eliminar el elemento 3, que NO está en el conjunto -> Esto genera un KeyError\n",
        "print(s)         # No se ejecuta debido al error anterior\n"
      ],
      "metadata": {
        "colab": {
          "base_uri": "https://localhost:8080/",
          "height": 176
        },
        "id": "yYzdYPxNpgSO",
        "outputId": "f0b410ec-1532-4c18-bd9d-5fc638df92f0"
      },
      "execution_count": 54,
      "outputs": [
        {
          "output_type": "error",
          "ename": "KeyError",
          "evalue": "3",
          "traceback": [
            "\u001b[0;31m---------------------------------------------------------------------------\u001b[0m",
            "\u001b[0;31mKeyError\u001b[0m                                  Traceback (most recent call last)",
            "\u001b[0;32m/tmp/ipython-input-948980595.py\u001b[0m in \u001b[0;36m<cell line: 0>\u001b[0;34m()\u001b[0m\n\u001b[1;32m      1\u001b[0m \u001b[0ms\u001b[0m \u001b[0;34m=\u001b[0m \u001b[0mset\u001b[0m\u001b[0;34m(\u001b[0m\u001b[0;34m[\u001b[0m\u001b[0;36m1\u001b[0m\u001b[0;34m,\u001b[0m \u001b[0;36m2\u001b[0m\u001b[0;34m]\u001b[0m\u001b[0;34m)\u001b[0m  \u001b[0;31m# Creamos un conjunto con los elementos 1 y 2\u001b[0m\u001b[0;34m\u001b[0m\u001b[0;34m\u001b[0m\u001b[0m\n\u001b[0;32m----> 2\u001b[0;31m \u001b[0ms\u001b[0m\u001b[0;34m.\u001b[0m\u001b[0mremove\u001b[0m\u001b[0;34m(\u001b[0m\u001b[0;36m3\u001b[0m\u001b[0;34m)\u001b[0m      \u001b[0;31m# Intenta eliminar el elemento 3, que NO está en el conjunto -> Esto genera un KeyError\u001b[0m\u001b[0;34m\u001b[0m\u001b[0;34m\u001b[0m\u001b[0m\n\u001b[0m\u001b[1;32m      3\u001b[0m \u001b[0mprint\u001b[0m\u001b[0;34m(\u001b[0m\u001b[0ms\u001b[0m\u001b[0;34m)\u001b[0m         \u001b[0;31m# No se ejecuta debido al error anterior\u001b[0m\u001b[0;34m\u001b[0m\u001b[0;34m\u001b[0m\u001b[0m\n",
            "\u001b[0;31mKeyError\u001b[0m: 3"
          ]
        }
      ]
    },
    {
      "cell_type": "code",
      "source": [
        "s = set([1, 2])  # Creamos un conjunto con los elementos 1 y 2\n",
        "s.discard(3)     # Intentamos eliminar el elemento 3, que no está en el conjunto\n",
        "                 # Pero discard no lanza error si el elemento no existe, simplemente no hace nada\n",
        "print(s)         # Imprime el conjunto original: {1, 2}\n",
        "\n"
      ],
      "metadata": {
        "colab": {
          "base_uri": "https://localhost:8080/"
        },
        "id": "_M29WfawqpK2",
        "outputId": "d29d2638-3aff-4931-acd0-e7bc1c289ba5"
      },
      "execution_count": 49,
      "outputs": [
        {
          "output_type": "stream",
          "name": "stdout",
          "text": [
            "{1, 2}\n"
          ]
        }
      ]
    },
    {
      "cell_type": "code",
      "source": [
        "s = set([1, 2])  # Creamos un conjunto con los elementos 1 y 2\n",
        "s.pop()          # Elimina y devuelve un elemento arbitrario del conjunto (generalmente el primero que encuentre)\n",
        "print(s)         # Imprime el conjunto después de eliminar un elemento, por ejemplo: {2}\n",
        "\n"
      ],
      "metadata": {
        "colab": {
          "base_uri": "https://localhost:8080/"
        },
        "id": "d0hbgnfNqwln",
        "outputId": "3e84226f-e35a-433f-9693-a17387f0a92f"
      },
      "execution_count": 45,
      "outputs": [
        {
          "output_type": "stream",
          "name": "stdout",
          "text": [
            "{2}\n"
          ]
        }
      ]
    },
    {
      "cell_type": "code",
      "source": [
        "s = set([1, 2])  # Creamos un conjunto con los elementos 1 y 2\n",
        "s.clear()        # Elimina todos los elementos del conjunto, dejándolo vacío\n",
        "print(s)         # Imprime el conjunto vacío: set()\n",
        "\n"
      ],
      "metadata": {
        "colab": {
          "base_uri": "https://localhost:8080/"
        },
        "id": "x9ltCqMbrzTO",
        "outputId": "bdaacd02-da69-4209-c8a3-af9064dad62b"
      },
      "execution_count": 46,
      "outputs": [
        {
          "output_type": "stream",
          "name": "stdout",
          "text": [
            "set()\n"
          ]
        }
      ]
    },
    {
      "cell_type": "code",
      "source": [
        "s1 = {1, 2, 3}     # Creamos el conjunto s1 con elementos 1, 2 y 3\n",
        "s2 = {3, 4, 5}     # Creamos el conjunto s2 con elementos 3, 4 y 5\n",
        "\n",
        "print(s1.union(s2))  # Imprime la unión de s1 y s2, que incluye todos los elementos sin duplicados: {1, 2, 3, 4, 5}\n",
        "\n"
      ],
      "metadata": {
        "colab": {
          "base_uri": "https://localhost:8080/"
        },
        "id": "7yUSxpTxr1B3",
        "outputId": "4a822505-9394-450c-dcd9-de03e350a753"
      },
      "execution_count": 47,
      "outputs": [
        {
          "output_type": "stream",
          "name": "stdout",
          "text": [
            "{1, 2, 3, 4, 5}\n"
          ]
        }
      ]
    },
    {
      "cell_type": "code",
      "source": [
        "s1 = {1, 2, 3}     # Creamos el conjunto s1 con los elementos 1, 2 y 3\n",
        "s2 = {3, 4, 5}     # Creamos el conjunto s2 con los elementos 3, 4 y 5\n",
        "\n",
        "print(s1.intersection(s2))  # Imprime la intersección entre s1 y s2: {3}\n",
        "# La intersección son los elementos que están en ambos conjuntos\n",
        "\n"
      ],
      "metadata": {
        "colab": {
          "base_uri": "https://localhost:8080/"
        },
        "id": "VQBPb6eJsNyG",
        "outputId": "b5e11aba-1e3f-4807-850d-900ef18bce21"
      },
      "execution_count": 48,
      "outputs": [
        {
          "output_type": "stream",
          "name": "stdout",
          "text": [
            "{3}\n"
          ]
        }
      ]
    },
    {
      "cell_type": "code",
      "source": [
        "Frontend = {\"HTML\", \"CSS\", \"JavaScript\", \"React\"}  # Conjunto con tecnologías Frontend\n",
        "Backend = {\"Python\", \"SQL\", \"JavaScript\", \"Django\"}  # Conjunto con tecnologías Backend\n",
        "\n",
        "Frontend.add(\"Vue.js\")        # Agrega \"Vue.js\" al conjunto Frontend\n",
        "Backend.remove(\"Django\")      # Elimina \"Django\" del conjunto Backend\n",
        "\n",
        "# Calculamos la intersección: elementos que están en ambos conjuntos\n",
        "interseccion = Frontend.intersection(Backend)\n",
        "\n",
        "print(Frontend.union(Backend))        # Imprime la unión: todos los elementos de Frontend y Backend sin repetir\n",
        "print(interseccion)                    # Imprime la intersección guardada antes\n",
        "\n",
        "print(Frontend.intersection(Backend))  # Imprime nuevamente la intersección (igual que la variable 'interseccion')\n"
      ],
      "metadata": {
        "colab": {
          "base_uri": "https://localhost:8080/"
        },
        "id": "QMkCcj0KsQE4",
        "outputId": "86149857-56c6-4afd-bdb0-99b29fdc09a9"
      },
      "execution_count": 53,
      "outputs": [
        {
          "output_type": "stream",
          "name": "stdout",
          "text": [
            "{'HTML', 'JavaScript', 'React', 'CSS', 'SQL', 'Python', 'Vue.js'}\n",
            "{'JavaScript'}\n",
            "{'JavaScript'}\n"
          ]
        }
      ]
    }
  ]
}