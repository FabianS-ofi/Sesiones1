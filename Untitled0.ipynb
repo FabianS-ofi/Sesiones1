{
  "nbformat": 4,
  "nbformat_minor": 0,
  "metadata": {
    "colab": {
      "provenance": []
    },
    "kernelspec": {
      "name": "python3",
      "display_name": "Python 3"
    },
    "language_info": {
      "name": "python"
    }
  },
  "cells": [
    {
      "cell_type": "code",
      "execution_count": null,
      "metadata": {
        "colab": {
          "base_uri": "https://localhost:8080/"
        },
        "id": "aBWTXIlDv-uF",
        "outputId": "d858ccfd-6782-4543-89c4-9705faff25e4"
      },
      "outputs": [
        {
          "output_type": "stream",
          "name": "stdout",
          "text": [
            "Baloncesto\n",
            "Futbol\n",
            "Golf\n",
            "Voleibol\n",
            "Tenis\n",
            "Futbol\n"
          ]
        }
      ],
      "source": [
        "mi_deportes = ['Baloncesto', 'Futbol', 'Golf', 'Voleibol', 'Tenis']\n",
        "print(mi_deportes[0])\n",
        "print(mi_deportes[1])\n",
        "print(mi_deportes[2])\n",
        "print(mi_deportes[3])\n",
        "print(mi_deportes[4])\n",
        "print(mi_deportes[-3])"
      ]
    },
    {
      "cell_type": "code",
      "source": [
        "edades = [20, 41, 6, 18, 25]\n",
        "for edad in edades:\n",
        "  print (edad)"
      ],
      "metadata": {
        "colab": {
          "base_uri": "https://localhost:8080/"
        },
        "id": "VXpLqFNVz1XP",
        "outputId": "f1860727-4085-4c73-a4f4-27c3bb0ab97a"
      },
      "execution_count": null,
      "outputs": [
        {
          "output_type": "stream",
          "name": "stdout",
          "text": [
            "20\n",
            "41\n",
            "6\n",
            "18\n",
            "25\n"
          ]
        }
      ]
    },
    {
      "cell_type": "code",
      "source": [
        "edades = [20, 41, 6, 18, 25]\n",
        "indice = 0\n",
        "while indice < len(edades):\n",
        "  print(edades[indice])\n",
        "  indice += 1\n"
      ],
      "metadata": {
        "colab": {
          "base_uri": "https://localhost:8080/"
        },
        "id": "yleYY4xd0ZuQ",
        "outputId": "d52e0dfc-42f9-43ce-a111-4bb5be3b6d79"
      },
      "execution_count": null,
      "outputs": [
        {
          "output_type": "stream",
          "name": "stdout",
          "text": [
            "20\n",
            "41\n",
            "6\n",
            "18\n",
            "25\n"
          ]
        }
      ]
    },
    {
      "cell_type": "code",
      "source": [
        "edades = [20, 41, 6, 18, 25]\n",
        "edades.append(3)\n",
        "edades.append(0)\n",
        "print (edades)\n"
      ],
      "metadata": {
        "colab": {
          "base_uri": "https://localhost:8080/"
        },
        "id": "d3W7G9rN2aKl",
        "outputId": "f4b39ebf-25ab-45ae-f19b-5c024462b5d4"
      },
      "execution_count": null,
      "outputs": [
        {
          "output_type": "stream",
          "name": "stdout",
          "text": [
            "[20, 41, 6, 18, 25, 3, 0]\n"
          ]
        }
      ]
    },
    {
      "cell_type": "code",
      "source": [
        "numeros = [20, 41, 6, 18, 25]\n",
        "numeros = numeros +[10, 15, 70]\n",
        "print (numeros)"
      ],
      "metadata": {
        "colab": {
          "base_uri": "https://localhost:8080/"
        },
        "id": "MOhPeLUD4g3u",
        "outputId": "199bb76f-3465-4cdc-fd75-09593ddd6711"
      },
      "execution_count": null,
      "outputs": [
        {
          "output_type": "stream",
          "name": "stdout",
          "text": [
            "[20, 41, 6, 18, 25, 10, 15, 70]\n"
          ]
        }
      ]
    }
  ]
}